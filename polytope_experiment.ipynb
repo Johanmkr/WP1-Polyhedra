{
 "cells": [
  {
   "cell_type": "markdown",
   "id": "cf0e602c",
   "metadata": {},
   "source": [
    "# Polyhedra in input space (experiment)\n",
    "\n",
    "Some useful links\n",
    "* [Paper with the idea](https://arxiv.org/pdf/2306.17418)\n",
    "* [Paper that make the toolbox](https://www.frontiersin.org/journals/big-data/articles/10.3389/fdata.2023.1274831/full#B10)\n",
    "* [GitHub repository with code](https://github.com/cglrtrgy/GoL_Toolbox/tree/main)\n",
    "\n",
    "\n",
    "This notebook is inspired by their [demo notebook](https://github.com/cglrtrgy/GoL_Toolbox/blob/main/Demo_V0.ipynb).\n"
   ]
  },
  {
   "cell_type": "markdown",
   "id": "115569d2",
   "metadata": {},
   "source": [
    "## Summary of core idea"
   ]
  },
  {
   "cell_type": "markdown",
   "id": "d61d2ca3",
   "metadata": {},
   "source": [
    "## Dummy data and model\n",
    "\n",
    "We use the `make_moons` dataset from `scikit-learn`:"
   ]
  },
  {
   "cell_type": "code",
   "execution_count": 33,
   "id": "be4255b8",
   "metadata": {},
   "outputs": [],
   "source": [
    "import torch.nn as nn \n",
    "import torch\n",
    "from sklearn.datasets import make_moons\n",
    "import numpy as np\n",
    "import matplotlib.pyplot as plt\n",
    "from tqdm import trange\n",
    "\n",
    "from src import functions\n",
    "from src import trainer\n",
    "from src import models\n",
    "\n",
    "# Generate data\n",
    "x, y = make_moons(1000, noise=0.1)\n",
    "x, y = torch.tensor(x, dtype=torch.float), torch.tensor(y, dtype=torch.float)\n",
    "\n",
    "# Useful function to convert tensors to numpy arrays\n",
    "def to_np(x):\n",
    "    return x.cpu().detach().numpy()"
   ]
  },
  {
   "cell_type": "markdown",
   "id": "dfc01e1c",
   "metadata": {},
   "source": [
    "Train a simple binary classifier with ReLU activation on the two-moons dataset. "
   ]
  },
  {
   "cell_type": "code",
   "execution_count": 41,
   "id": "ffd7eb3e",
   "metadata": {},
   "outputs": [
    {
     "name": "stderr",
     "output_type": "stream",
     "text": [
      "100%|██████████| 5000/5000 [00:02<00:00, 1862.48it/s]\n"
     ]
    },
    {
     "data": {
      "image/png": "[encoded data removed]",
      "text/plain": [
       "<Figure size 640x480 with 1 Axes>"
      ]
     },
     "metadata": {},
     "output_type": "display_data"
    }
   ],
   "source": [
    "# Dummy model to test the functions\n",
    "class MLP(nn.Module):\n",
    "    def __init__(self):\n",
    "        super(MLP, self).__init__()\n",
    "\n",
    "        self.l1 = nn.Linear(2, 2)\n",
    "        self.relu1 = nn.ReLU()\n",
    "        self.l2 = nn.Linear(2, 3)\n",
    "        self.relu2 = nn.ReLU()\n",
    "        # self.l3 = nn.Linear(3, 3)\n",
    "        # self.relu3 = nn.ReLU()\n",
    "        self.out = nn.Linear(3, 1)\n",
    "\n",
    "    def forward(self, x):\n",
    "\n",
    "        out = x\n",
    "        out = self.relu1(self.l1(out))\n",
    "        out = self.relu2(self.l2(out))\n",
    "        # out = self.relu3(self.l3(out))\n",
    "        out = torch.sigmoid(self.out(out).squeeze())\n",
    "\n",
    "        return out\n",
    "\n",
    "\n",
    "# Train the model \n",
    "\n",
    "EPOCHS = 5000\n",
    "criterion = nn.BCELoss()\n",
    "\n",
    "model = MLP()\n",
    "optimizer = torch.optim.Adam(model.parameters())\n",
    "losses = []\n",
    "\n",
    "for epoch in trange(EPOCHS):\n",
    "    model.train()\n",
    "    optimizer.zero_grad()\n",
    "\n",
    "    out = model(x)\n",
    "    loss = criterion(out, y)\n",
    "    loss.backward()\n",
    "    losses.append(loss.item())\n",
    "    optimizer.step()\n",
    "\n",
    "    optimizer.zero_grad()\n",
    "\n",
    "plt.figure(1)\n",
    "plt.plot(losses)\n",
    "plt.show()\n"
   ]
  },
  {
   "cell_type": "markdown",
   "id": "c5827a4a",
   "metadata": {},
   "source": [
    "## 1 - Bit-vector\n",
    "\n",
    "This is found using a random data point on a pre-trained model, and creating vector of the activations, 0 if 0 or 1 if activated. This is the same as taking the derivative of the activation and stacking them. "
   ]
  },
  {
   "cell_type": "code",
   "execution_count": 43,
   "id": "76f871c0",
   "metadata": {},
   "outputs": [
    {
     "data": {
      "text/plain": [
       "array([[ 0.24883123],\n",
       "       [-0.14185633]], dtype=float32)"
      ]
     },
     "execution_count": 43,
     "metadata": {},
     "output_type": "execute_result"
    }
   ],
   "source": [
    "model.eval()\n",
    "# For random sample, just use first sample for now\n",
    "random_sample = to_np(x[0].unsqueeze(0).T)\n",
    "random_sample"
   ]
  },
  {
   "cell_type": "code",
   "execution_count": 46,
   "id": "828cb1d8",
   "metadata": {},
   "outputs": [
    {
     "name": "stdout",
     "output_type": "stream",
     "text": [
      "Shape of the bit vector: \n"
     ]
    },
    {
     "data": {
      "text/plain": [
       "(5, 1)"
      ]
     },
     "execution_count": 46,
     "metadata": {},
     "output_type": "execute_result"
    }
   ],
   "source": [
    "# Get the bit vector. This will be a list of bit vectors, one for each sample, whose length is the number of ReLU activations in the model, stacked across layers.\n",
    "bit_vector_of_sample  = functions.bit_vector_from_relus(model, random_sample, stack_layers = True, verbose=False, get_unique_bit_vectors_only=False)\n",
    "print(\"Shape of the bit vector: \")\n",
    "bit_vector_of_sample[0].shape\n",
    "# print(bit_vector_of_an_image)"
   ]
  },
  {
   "cell_type": "code",
   "execution_count": 53,
   "id": "529fbe83",
   "metadata": {},
   "outputs": [],
   "source": [
    "# Get the same bit vectors, but without stacking across layers.\n",
    "bit_vector_of_sample_no_stack  = functions.bit_vector_from_relus(model, random_sample, stack_layers = False, verbose=False, get_unique_bit_vectors_only=False)"
   ]
  },
  {
   "cell_type": "code",
   "execution_count": 54,
   "id": "84f368e0",
   "metadata": {},
   "outputs": [
    {
     "name": "stdout",
     "output_type": "stream",
     "text": [
      "Shape of the 1. hidden layer's bit vector: (2, 1)\n",
      "Shape of the 2. hidden layer's bit vector: (3, 1)\n"
     ]
    }
   ],
   "source": [
    "counter = 1\n",
    "for a_bit_vector in bit_vector_of_sample_no_stack[0]:\n",
    "    print(f\"Shape of the {counter}. hidden layer's bit vector: {a_bit_vector.shape}\")\n",
    "    counter += 1\n",
    "    "
   ]
  },
  {
   "cell_type": "code",
   "execution_count": 58,
   "id": "a912c1c5",
   "metadata": {},
   "outputs": [
    {
     "name": "stdout",
     "output_type": "stream",
     "text": [
      "Bit vector of the first sample:\n",
      "[array([[0],\n",
      "       [1],\n",
      "       [0],\n",
      "       [1],\n",
      "       [1]])]\n",
      "Bit vector of the first sample, without stacking across layers:\n",
      "[[array([[0],\n",
      "       [1]]), array([[0],\n",
      "       [1],\n",
      "       [1]])]]\n"
     ]
    }
   ],
   "source": [
    "print(\"Bit vector of the first sample:\")\n",
    "print(bit_vector_of_sample)\n",
    "print(\"Bit vector of the first sample, without stacking across layers:\")\n",
    "print(bit_vector_of_sample_no_stack)"
   ]
  },
  {
   "cell_type": "markdown",
   "id": "0efe0071",
   "metadata": {},
   "source": [
    "## 2 - Linear model for polyhedron"
   ]
  }
 ],
 "metadata": {
  "kernelspec": {
   "display_name": ".venv",
   "language": "python",
   "name": "python3"
  },
  "language_info": {
   "codemirror_mode": {
    "name": "ipython",
    "version": 3
   },
   "file_extension": ".py",
   "mimetype": "text/x-python",
   "name": "python",
   "nbconvert_exporter": "python",
   "pygments_lexer": "ipython3",
   "version": "3.13.1"
  }
 },
 "nbformat": 4,
 "nbformat_minor": 5
}
