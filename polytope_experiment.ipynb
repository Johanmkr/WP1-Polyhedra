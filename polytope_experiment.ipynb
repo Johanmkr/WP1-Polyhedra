{
 "cells": [
  {
   "cell_type": "code",
   "execution_count": 89,
   "id": "be4255b8",
   "metadata": {},
   "outputs": [],
   "source": [
    "import torch.nn as nn \n",
    "import torch\n",
    "from sklearn.datasets import make_moons\n",
    "import numpy as np\n",
    "import matplotlib.pyplot as plt\n",
    "from tqdm import trange\n",
    "\n",
    "from src import functions\n",
    "from src import trainer\n",
    "from src import models"
   ]
  },
  {
   "cell_type": "code",
   "execution_count": null,
   "id": "8de18fef",
   "metadata": {},
   "outputs": [
    {
     "name": "stderr",
     "output_type": "stream",
     "text": [
      "100%|██████████| 1000/1000 [00:02<00:00, 472.73it/s]"
     ]
    },
    {
     "name": "stdout",
     "output_type": "stream",
     "text": [
      "Training complete after 1000 epochs.\n",
      "Total training: 1000 epochs.\n"
     ]
    },
    {
     "name": "stderr",
     "output_type": "stream",
     "text": [
      "\n"
     ]
    }
   ],
   "source": [
    "# Make data\n",
    "\n",
    "# T = trainer.MoonTrainer(models.MLP321())\n",
    "# T.train(1000)\n",
    "# model = T.model"
   ]
  },
  {
   "cell_type": "code",
   "execution_count": null,
   "id": "fb5a67c3",
   "metadata": {},
   "outputs": [],
   "source": [
    "class NeuralNet(nn.Module):\n",
    "    def __init__(self, input_size, hidden_sizes, num_classes):\n",
    "        super(NeuralNet, self).__init__()\n",
    "        self.hidden_sizes = hidden_sizes\n",
    "        \n",
    "        for i in range(len(hidden_sizes)):\n",
    "            layer_name = f\"l{i+1}\"\n",
    "            relu_name = f\"relu{i+1}\"\n",
    "            if i == 0:\n",
    "                \n",
    "                setattr(self, layer_name, nn.Linear(input_size, hidden_sizes[i]))\n",
    "                setattr(self, relu_name, nn.ReLU())\n",
    "            else:\n",
    "                setattr(self, layer_name, nn.Linear(hidden_sizes[i-1], hidden_sizes[i]))\n",
    "                setattr(self, relu_name, nn.ReLU())\n",
    "                \n",
    "        output_layer_name = f\"l{len(hidden_sizes)+1}\"\n",
    "\n",
    "        setattr(self, output_layer_name, nn.Linear(hidden_sizes[-1], num_classes))\n",
    "\n",
    "    def forward(self, x):\n",
    "        out = x\n",
    "        for i in range(len(self.hidden_sizes)):\n",
    "            layer_name = f\"l{i+1}\"\n",
    "            relu_name = f\"relu{i+1}\"\n",
    "            out = getattr(self, layer_name)(out)\n",
    "            out = getattr(self, relu_name)(out)\n",
    "\n",
    "        output_layer_name = f\"l{len(self.hidden_sizes)+1}\"\n",
    "        out = getattr(self, output_layer_name)(out)\n",
    "        return out"
   ]
  },
  {
   "cell_type": "code",
   "execution_count": null,
   "id": "ffd7eb3e",
   "metadata": {},
   "outputs": [
    {
     "name": "stderr",
     "output_type": "stream",
     "text": [
      "100%|██████████| 1000/1000 [00:01<00:00, 507.79it/s]\n"
     ]
    },
    {
     "data": {
      "image/png": "[encoded data removed]",
      "text/plain": [
       "<Figure size 640x480 with 1 Axes>"
      ]
     },
     "metadata": {},
     "output_type": "display_data"
    }
   ],
   "source": [
    "x, y = make_moons(1000, noise=0.1)\n",
    "x, y = torch.tensor(x, dtype=torch.float), torch.tensor(y, dtype=torch.float)\n",
    "\n",
    "def to_np(x):\n",
    "    return x.cpu().detach().numpy()\n",
    "\n",
    "class MLP(nn.Module):\n",
    "    def __init__(self):\n",
    "        super(MLP, self).__init__()\n",
    "\n",
    "        self.l1 = nn.Linear(2, 3)\n",
    "        self.relu1 = nn.ReLU()\n",
    "        self.l2 = nn.Linear(3, 3)\n",
    "        self.relu2 = nn.ReLU()\n",
    "        self.l3 = nn.Linear(3, 3)\n",
    "        self.relu3 = nn.ReLU()\n",
    "        self.out = nn.Linear(3, 1)\n",
    "\n",
    "    def forward(self, x):\n",
    "\n",
    "        out = x\n",
    "        out = self.relu1(self.l1(out))\n",
    "        out = self.relu2(self.l2(out))\n",
    "        out = self.relu3(self.l3(out))\n",
    "        out = torch.sigmoid(self.out(out).squeeze())\n",
    "\n",
    "        return out\n",
    "\n",
    "EPOCHS = 1000\n",
    "criterion = nn.BCELoss()\n",
    "\n",
    "model = MLP()\n",
    "optimizer = torch.optim.Adam(model.parameters())\n",
    "losses = []\n",
    "\n",
    "for epoch in trange(EPOCHS):\n",
    "    model.train()\n",
    "    optimizer.zero_grad()\n",
    "\n",
    "    out = model(x)\n",
    "    loss = criterion(out, y)\n",
    "    loss.backward()\n",
    "    losses.append(loss.item())\n",
    "    optimizer.step()\n",
    "\n",
    "    optimizer.zero_grad()\n",
    "\n",
    "plt.figure(1)\n",
    "plt.plot(losses)\n",
    "plt.show()\n"
   ]
  },
  {
   "cell_type": "code",
   "execution_count": 102,
   "id": "76f871c0",
   "metadata": {},
   "outputs": [
    {
     "data": {
      "text/plain": [
       "MLP(\n",
       "  (l1): Linear(in_features=2, out_features=3, bias=True)\n",
       "  (relu1): ReLU()\n",
       "  (l2): Linear(in_features=3, out_features=3, bias=True)\n",
       "  (relu2): ReLU()\n",
       "  (l3): Linear(in_features=3, out_features=3, bias=True)\n",
       "  (relu3): ReLU()\n",
       "  (out): Linear(in_features=3, out_features=1, bias=True)\n",
       ")"
      ]
     },
     "execution_count": 102,
     "metadata": {},
     "output_type": "execute_result"
    }
   ],
   "source": [
    "model.eval()"
   ]
  },
  {
   "cell_type": "code",
   "execution_count": 103,
   "id": "dee1b5e9",
   "metadata": {},
   "outputs": [
    {
     "data": {
      "text/plain": [
       "(2, 1)"
      ]
     },
     "execution_count": 103,
     "metadata": {},
     "output_type": "execute_result"
    }
   ],
   "source": [
    "random_sample = x[0].float().unsqueeze(0).detach().numpy().T\n",
    "random_sample.shape\n"
   ]
  },
  {
   "cell_type": "code",
   "execution_count": 104,
   "id": "828cb1d8",
   "metadata": {},
   "outputs": [],
   "source": [
    "bit_vector_of_an_image  = functions.bit_vector_from_relus(model, random_sample, stack_layers = True, verbose=False, get_unique_bit_vectors_only=False)"
   ]
  },
  {
   "cell_type": "code",
   "execution_count": 105,
   "id": "35176221",
   "metadata": {},
   "outputs": [
    {
     "name": "stdout",
     "output_type": "stream",
     "text": [
      "Shape of the bit vector: \n"
     ]
    },
    {
     "data": {
      "text/plain": [
       "(9, 1)"
      ]
     },
     "execution_count": 105,
     "metadata": {},
     "output_type": "execute_result"
    }
   ],
   "source": [
    "print(\"Shape of the bit vector: \")\n",
    "bit_vector_of_an_image[0].shape"
   ]
  },
  {
   "cell_type": "code",
   "execution_count": 106,
   "id": "9ce14ae5",
   "metadata": {},
   "outputs": [],
   "source": [
    "bit_vector_of_a_sample = functions.bit_vector_from_relus(model, random_sample, stack_layers=True, verbose=False, get_unique_bit_vectors_only=False)"
   ]
  },
  {
   "cell_type": "code",
   "execution_count": 107,
   "id": "0619b265",
   "metadata": {},
   "outputs": [
    {
     "name": "stdout",
     "output_type": "stream",
     "text": [
      "[array([[1],\n",
      "       [1],\n",
      "       [1],\n",
      "       [0],\n",
      "       [0],\n",
      "       [1],\n",
      "       [0],\n",
      "       [0],\n",
      "       [0]])]\n"
     ]
    }
   ],
   "source": [
    "print(bit_vector_of_a_sample)"
   ]
  },
  {
   "cell_type": "code",
   "execution_count": 108,
   "id": "529fbe83",
   "metadata": {},
   "outputs": [],
   "source": [
    "bit_vector_of_sample_no_stack  = functions.bit_vector_from_relus(model, random_sample, stack_layers = False, verbose=False, get_unique_bit_vectors_only=False)"
   ]
  },
  {
   "cell_type": "code",
   "execution_count": 109,
   "id": "84f368e0",
   "metadata": {},
   "outputs": [
    {
     "name": "stdout",
     "output_type": "stream",
     "text": [
      "Shape of the 1. hidden layer's bit vector: (3, 1)\n",
      "Shape of the 2. hidden layer's bit vector: (3, 1)\n",
      "Shape of the 3. hidden layer's bit vector: (3, 1)\n"
     ]
    }
   ],
   "source": [
    "counter = 1\n",
    "for a_bit_vector in bit_vector_of_sample_no_stack[0]:\n",
    "    print(f\"Shape of the {counter}. hidden layer's bit vector: {a_bit_vector.shape}\")\n",
    "    counter += 1\n",
    "    "
   ]
  }
 ],
 "metadata": {
  "kernelspec": {
   "display_name": ".venv",
   "language": "python",
   "name": "python3"
  },
  "language_info": {
   "codemirror_mode": {
    "name": "ipython",
    "version": 3
   },
   "file_extension": ".py",
   "mimetype": "text/x-python",
   "name": "python",
   "nbconvert_exporter": "python",
   "pygments_lexer": "ipython3",
   "version": "3.13.1"
  }
 },
 "nbformat": 4,
 "nbformat_minor": 5
}
