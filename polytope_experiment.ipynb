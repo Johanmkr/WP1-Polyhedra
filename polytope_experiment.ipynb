{
 "cells": [
  {
   "cell_type": "markdown",
   "id": "cf0e602c",
   "metadata": {},
   "source": [
    "# Polyhedra in input space (experiment)\n",
    "\n",
    "Some useful links\n",
    "* [Paper with the idea](https://arxiv.org/pdf/2306.17418)\n",
    "* [Paper that make the toolbox](https://www.frontiersin.org/journals/big-data/articles/10.3389/fdata.2023.1274831/full#B10)\n",
    "* [GitHub repository with code](https://github.com/cglrtrgy/GoL_Toolbox/tree/main)\n",
    "\n",
    "\n",
    "This notebook is inspired by their [demo notebook](https://github.com/cglrtrgy/GoL_Toolbox/blob/main/Demo_V0.ipynb).\n"
   ]
  },
  {
   "cell_type": "markdown",
   "id": "115569d2",
   "metadata": {},
   "source": [
    "## Summary of core idea"
   ]
  },
  {
   "cell_type": "markdown",
   "id": "d61d2ca3",
   "metadata": {},
   "source": [
    "## Dummy data and model\n",
    "\n",
    "We use the `make_moons` dataset from `scikit-learn`:"
   ]
  },
  {
   "cell_type": "code",
   "execution_count": 457,
   "id": "be4255b8",
   "metadata": {},
   "outputs": [],
   "source": [
    "import torch.nn as nn \n",
    "import torch\n",
    "from sklearn.datasets import make_moons\n",
    "import numpy as np\n",
    "import matplotlib.pyplot as plt\n",
    "from tqdm import trange\n",
    "\n",
    "from src import functions\n",
    "from src import trainer\n",
    "from src import models\n",
    "\n",
    "# Generate data\n",
    "x, y = make_moons(1000, noise=0.1)\n",
    "x, y = torch.tensor(x, dtype=torch.float), torch.tensor(y, dtype=torch.float)\n",
    "\n",
    "# Useful function to convert tensors to numpy arrays\n",
    "def to_np(x):\n",
    "    return x.cpu().detach().numpy()"
   ]
  },
  {
   "cell_type": "markdown",
   "id": "dfc01e1c",
   "metadata": {},
   "source": [
    "Train a simple binary classifier with ReLU activation on the two-moons dataset. "
   ]
  },
  {
   "cell_type": "code",
   "execution_count": 458,
   "id": "ffd7eb3e",
   "metadata": {},
   "outputs": [
    {
     "name": "stderr",
     "output_type": "stream",
     "text": [
      "100%|██████████| 5000/5000 [00:06<00:00, 797.77it/s]\n"
     ]
    },
    {
     "data": {
      "image/png": "[encoded data removed]",
      "text/plain": [
       "<Figure size 640x480 with 1 Axes>"
      ]
     },
     "metadata": {},
     "output_type": "display_data"
    }
   ],
   "source": [
    "# Dummy model to test the functions\n",
    "class MLP(nn.Module):\n",
    "    def __init__(self):\n",
    "        super(MLP, self).__init__()\n",
    "\n",
    "        self.l1 = nn.Linear(2, 3)\n",
    "        self.relu1 = nn.ReLU()\n",
    "        self.l2 = nn.Linear(3, 3)\n",
    "        self.relu2 = nn.ReLU()\n",
    "        self.l3 = nn.Linear(3, 3)\n",
    "        self.relu3 = nn.ReLU()\n",
    "        self.out = nn.Linear(3, 1)\n",
    "\n",
    "    def forward(self, x):\n",
    "\n",
    "        out = x\n",
    "        out = self.relu1(self.l1(out))\n",
    "        out = self.relu2(self.l2(out))\n",
    "        out = self.relu3(self.l3(out))\n",
    "        out = torch.sigmoid(self.out(out).squeeze())\n",
    "\n",
    "        return out\n",
    "\n",
    "\n",
    "# Train the model \n",
    "\n",
    "EPOCHS = 5000\n",
    "criterion = nn.BCELoss()\n",
    "\n",
    "model = MLP()\n",
    "optimizer = torch.optim.Adam(model.parameters())\n",
    "losses = []\n",
    "\n",
    "for epoch in trange(EPOCHS):\n",
    "    model.train()\n",
    "    optimizer.zero_grad()\n",
    "\n",
    "    out = model(x)\n",
    "    loss = criterion(out, y)\n",
    "    loss.backward()\n",
    "    losses.append(loss.item())\n",
    "    optimizer.step()\n",
    "\n",
    "    optimizer.zero_grad()\n",
    "\n",
    "plt.figure(1)\n",
    "plt.plot(losses)\n",
    "plt.show()\n"
   ]
  },
  {
   "cell_type": "markdown",
   "id": "c5827a4a",
   "metadata": {},
   "source": [
    "## 1 - Bit-vector\n",
    "\n",
    "This is found using a random data point on a pre-trained model, and creating vector of the activations, 0 if 0 or 1 if activated. This is the same as taking the derivative of the activation and stacking them. "
   ]
  },
  {
   "cell_type": "code",
   "execution_count": 459,
   "id": "76f871c0",
   "metadata": {},
   "outputs": [
    {
     "data": {
      "text/plain": [
       "array([[-0.16529551],\n",
       "       [ 0.67604095]], dtype=float32)"
      ]
     },
     "execution_count": 459,
     "metadata": {},
     "output_type": "execute_result"
    }
   ],
   "source": [
    "model.eval()\n",
    "# For random sample, just use first sample for now\n",
    "random_sample = to_np(x[0].unsqueeze(0).T)\n",
    "random_sample"
   ]
  },
  {
   "cell_type": "code",
   "execution_count": 460,
   "id": "828cb1d8",
   "metadata": {},
   "outputs": [
    {
     "name": "stdout",
     "output_type": "stream",
     "text": [
      "Shape of the bit vector: \n"
     ]
    },
    {
     "data": {
      "text/plain": [
       "(9, 1)"
      ]
     },
     "execution_count": 460,
     "metadata": {},
     "output_type": "execute_result"
    }
   ],
   "source": [
    "# Get the bit vector. This will be a list of bit vectors, one for each sample, whose length is the number of ReLU activations in the model, stacked across layers.\n",
    "bit_vector_of_sample  = functions.bit_vector_from_relus(model, random_sample, stack_layers = True, verbose=False, get_unique_bit_vectors_only=False)\n",
    "print(\"Shape of the bit vector: \")\n",
    "bit_vector_of_sample[0].shape\n",
    "# print(bit_vector_of_an_image)"
   ]
  },
  {
   "cell_type": "code",
   "execution_count": 461,
   "id": "529fbe83",
   "metadata": {},
   "outputs": [],
   "source": [
    "# Get the same bit vectors, but without stacking across layers.\n",
    "bit_vector_of_sample_no_stack  = functions.bit_vector_from_relus(model, random_sample, stack_layers = False, verbose=False, get_unique_bit_vectors_only=False)"
   ]
  },
  {
   "cell_type": "code",
   "execution_count": 462,
   "id": "84f368e0",
   "metadata": {},
   "outputs": [
    {
     "name": "stdout",
     "output_type": "stream",
     "text": [
      "Shape of the 1. hidden layer's bit vector: (3, 1)\n",
      "Shape of the 2. hidden layer's bit vector: (3, 1)\n",
      "Shape of the 3. hidden layer's bit vector: (3, 1)\n"
     ]
    }
   ],
   "source": [
    "counter = 1\n",
    "for a_bit_vector in bit_vector_of_sample_no_stack[0]:\n",
    "    print(f\"Shape of the {counter}. hidden layer's bit vector: {a_bit_vector.shape}\")\n",
    "    counter += 1\n",
    "    "
   ]
  },
  {
   "cell_type": "code",
   "execution_count": 463,
   "id": "a912c1c5",
   "metadata": {},
   "outputs": [
    {
     "name": "stdout",
     "output_type": "stream",
     "text": [
      "Bit vector of the first sample:\n",
      "[array([[0],\n",
      "       [0],\n",
      "       [1],\n",
      "       [0],\n",
      "       [1],\n",
      "       [0],\n",
      "       [0],\n",
      "       [1],\n",
      "       [0]])]\n",
      "Bit vector of the first sample, without stacking across layers:\n",
      "[[array([[0],\n",
      "       [0],\n",
      "       [1]]), array([[0],\n",
      "       [1],\n",
      "       [0]]), array([[0],\n",
      "       [1],\n",
      "       [0]])]]\n"
     ]
    }
   ],
   "source": [
    "print(\"Bit vector of the first sample:\")\n",
    "print(bit_vector_of_sample)\n",
    "print(\"Bit vector of the first sample, without stacking across layers:\")\n",
    "print(bit_vector_of_sample_no_stack)"
   ]
  },
  {
   "cell_type": "markdown",
   "id": "0efe0071",
   "metadata": {},
   "source": [
    "## 2 - Linear model for polyhedron\n",
    "\n",
    "The aim is to derive the linear model of a given data point. That is, given a data point $\\mathbf{x}$, find $A$ and $\\mathbf{c}$ such that $A\\mathbf{x}\\leq \\mathbf{c}$"
   ]
  },
  {
   "cell_type": "code",
   "execution_count": 464,
   "id": "0fa60b17",
   "metadata": {},
   "outputs": [],
   "source": [
    "# Find Ars and crs for random sample (rs)\n",
    "Ars, crs = functions.get_inequalities(model, random_sample, return_bit_vec_list=False)"
   ]
  },
  {
   "cell_type": "code",
   "execution_count": 465,
   "id": "745f2200",
   "metadata": {},
   "outputs": [
    {
     "name": "stdout",
     "output_type": "stream",
     "text": [
      "Shape of A:  (9, 2)\n",
      "Shape of c:  (9, 1)\n"
     ]
    }
   ],
   "source": [
    "#Linear model: Ax <= c.\n",
    "print(\"Shape of A: \", Ars[0].shape)\n",
    "print(\"Shape of c: \", crs[0].shape)"
   ]
  },
  {
   "cell_type": "code",
   "execution_count": 466,
   "id": "71ed0eb1",
   "metadata": {},
   "outputs": [
    {
     "name": "stdout",
     "output_type": "stream",
     "text": [
      "A:  [array([[-1.86200130e+00, -1.18256889e-01],\n",
      "       [-4.25769567e-01, -5.79862222e-02],\n",
      "       [-4.20576259e-02,  1.45148993e+00],\n",
      "       [-1.55777967e-02,  5.37619859e-01],\n",
      "       [-7.31283381e-02,  2.52380023e+00],\n",
      "       [-1.89698809e-02,  6.54687240e-01],\n",
      "       [ 6.07137301e-04, -2.09534812e-02],\n",
      "       [-1.28932278e-01,  4.44970202e+00],\n",
      "       [ 6.51421449e-03, -2.24818127e-01]])]\n",
      "c:  [array([[0.32663339],\n",
      "       [0.55977219],\n",
      "       [1.26283789],\n",
      "       [0.7799313 ],\n",
      "       [2.2123047 ],\n",
      "       [0.60595183],\n",
      "       [0.04760454],\n",
      "       [3.86738811],\n",
      "       [0.24979932]])]\n"
     ]
    }
   ],
   "source": [
    "print(\"A: \", Ars)\n",
    "print(\"c: \", crs)"
   ]
  },
  {
   "cell_type": "markdown",
   "id": "cfa531d6",
   "metadata": {},
   "source": [
    "## 3 - Minimum set of the linear model (active bits of the bit vector)"
   ]
  },
  {
   "cell_type": "code",
   "execution_count": 467,
   "id": "f456e6fd",
   "metadata": {},
   "outputs": [
    {
     "name": "stdout",
     "output_type": "stream",
     "text": [
      "Active bit index list for random sample's bit vector: \n"
     ]
    },
    {
     "data": {
      "text/plain": [
       "array([0, 7, 8])"
      ]
     },
     "execution_count": 467,
     "metadata": {},
     "output_type": "execute_result"
    }
   ],
   "source": [
    "indices_for_active_bits = functions.active_bits_index(Ars, crs, verbose=False, n_jobs=2)\n",
    "print(\"Active bit index list for random sample's bit vector: \")\n",
    "indices_for_active_bits"
   ]
  },
  {
   "cell_type": "code",
   "execution_count": 468,
   "id": "2ab33176",
   "metadata": {},
   "outputs": [
    {
     "name": "stdout",
     "output_type": "stream",
     "text": [
      "Shape of Ars:  (9, 2)\n",
      "Shape of crs:  (9, 1)\n",
      "Shape of bit_vectors:  (9, 1)\n",
      "Active bit index list:  [0 7 8]\n"
     ]
    },
    {
     "ename": "ValueError",
     "evalue": "matmul: Input operand 1 has a mismatch in its core dimension 0, with gufunc signature (n?,k),(k,m?)->(n?,m?) (size 3 is different from 5)",
     "output_type": "error",
     "traceback": [
      "\u001b[31m---------------------------------------------------------------------------\u001b[39m",
      "\u001b[31mValueError\u001b[39m                                Traceback (most recent call last)",
      "\u001b[36mCell\u001b[39m\u001b[36m \u001b[39m\u001b[32mIn[468]\u001b[39m\u001b[32m, line 13\u001b[39m\n\u001b[32m      9\u001b[39m \u001b[38;5;28mprint\u001b[39m(\u001b[33m\"\u001b[39m\u001b[33mActive bit index list: \u001b[39m\u001b[33m\"\u001b[39m, indices_for_active_bits)\n\u001b[32m     12\u001b[39m \u001b[38;5;66;03m# For this to work, each layer must have the same number of nodes. \u001b[39;00m\n\u001b[32m---> \u001b[39m\u001b[32m13\u001b[39m polyhedra_list, active_bit_count_list = \u001b[43mfunctions\u001b[49m\u001b[43m.\u001b[49m\u001b[43mget_polytope_list\u001b[49m\u001b[43m(\u001b[49m\u001b[43mbit_vectors\u001b[49m\u001b[43m[\u001b[49m\u001b[32;43m0\u001b[39;49m\u001b[43m]\u001b[49m\u001b[43m,\u001b[49m\u001b[43m \u001b[49m\u001b[43mindices_for_active_bits\u001b[49m\u001b[43m,\u001b[49m\u001b[43m \u001b[49m\u001b[43mmodel\u001b[49m\u001b[43m=\u001b[49m\u001b[43mmodel\u001b[49m\u001b[43m)\u001b[49m\n\u001b[32m     14\u001b[39m \u001b[38;5;28mprint\u001b[39m(\u001b[33m\"\u001b[39m\u001b[33m# of polyhedra:\u001b[39m\u001b[33m\"\u001b[39m ,\u001b[38;5;28mlen\u001b[39m(polyhedra_list))\n",
      "\u001b[36mFile \u001b[39m\u001b[32m~/Documents/phd/WP1/polyhedra/src/functions.py:50\u001b[39m, in \u001b[36mget_polytope_list\u001b[39m\u001b[34m(first_sample_bit_vector, indexes_for_active_bits_first_sample, input_dimension, model)\u001b[39m\n\u001b[32m     46\u001b[39m \u001b[38;5;66;03m# change this based on how many hidden layers we have\u001b[39;00m\n\u001b[32m     47\u001b[39m \u001b[38;5;66;03m# if we have different number of nodes for each hidden layer, I need to\u001b[39;00m\n\u001b[32m     48\u001b[39m \u001b[38;5;66;03m# update the code\u001b[39;00m\n\u001b[32m     49\u001b[39m split_vectors = np.array_split(bit_string, \u001b[32m2\u001b[39m)\n\u001b[32m---> \u001b[39m\u001b[32m50\u001b[39m A, c = \u001b[43mget_inequalities\u001b[49m\u001b[43m(\u001b[49m\n\u001b[32m     51\u001b[39m \u001b[43m    \u001b[49m\u001b[43mmodel\u001b[49m\u001b[43m,\u001b[49m\n\u001b[32m     52\u001b[39m \u001b[43m    \u001b[49m\u001b[43m[\u001b[49m\u001b[43msplit_vectors\u001b[49m\u001b[43m]\u001b[49m\u001b[43m,\u001b[49m\n\u001b[32m     53\u001b[39m \u001b[43m    \u001b[49m\u001b[43mis_input_sample\u001b[49m\u001b[43m=\u001b[49m\u001b[38;5;28;43;01mFalse\u001b[39;49;00m\u001b[43m,\u001b[49m\n\u001b[32m     54\u001b[39m \u001b[43m    \u001b[49m\u001b[43mreturn_bit_vec_list\u001b[49m\u001b[43m=\u001b[49m\u001b[38;5;28;43;01mFalse\u001b[39;49;00m\u001b[43m,\u001b[49m\n\u001b[32m     55\u001b[39m \u001b[43m    \u001b[49m\u001b[43minput_dimension\u001b[49m\u001b[43m=\u001b[49m\u001b[43minput_dimension\u001b[49m\u001b[43m,\u001b[49m\n\u001b[32m     56\u001b[39m \u001b[43m\u001b[49m\u001b[43m)\u001b[49m\n\u001b[32m     57\u001b[39m indexes_for_active_bits, _ = active_bits_index_2(A[\u001b[32m0\u001b[39m], c[\u001b[32m0\u001b[39m].reshape(-\u001b[32m1\u001b[39m))\n\u001b[32m     59\u001b[39m active_bit_count_list.append(\u001b[38;5;28mlen\u001b[39m(indexes_for_active_bits))\n",
      "\u001b[36mFile \u001b[39m\u001b[32m~/Documents/phd/WP1/polyhedra/src/functions.py:259\u001b[39m, in \u001b[36mget_inequalities\u001b[39m\u001b[34m(model, test, is_input_sample, verbose, return_bit_vec_list, input_dimension)\u001b[39m\n\u001b[32m    253\u001b[39m     \u001b[38;5;28mprint\u001b[39m(\u001b[33m\"\u001b[39m\u001b[33mb_1: \u001b[39m\u001b[33m\"\u001b[39m, b, b.shape)\n\u001b[32m    255\u001b[39m \u001b[38;5;66;03m# A1 = -np.matmul(np.diag(sign_str1), W1)\u001b[39;00m\n\u001b[32m    256\u001b[39m \n\u001b[32m    257\u001b[39m \u001b[38;5;66;03m# if we dont do reshape to a column vector like bit_str we cannot get diagonal matrix\u001b[39;00m\n\u001b[32m    258\u001b[39m A = (\n\u001b[32m--> \u001b[39m\u001b[32m259\u001b[39m     \u001b[43mnp\u001b[49m\u001b[43m.\u001b[49m\u001b[43mdiag\u001b[49m\u001b[43m(\u001b[49m\n\u001b[32m    260\u001b[39m \u001b[43m        \u001b[49m\u001b[43msign_str\u001b[49m\u001b[43m.\u001b[49m\u001b[43mreshape\u001b[49m\u001b[43m(\u001b[49m\n\u001b[32m    261\u001b[39m \u001b[43m            \u001b[49m\u001b[43m-\u001b[49m\u001b[32;43m1\u001b[39;49m\u001b[43m,\u001b[49m\n\u001b[32m    262\u001b[39m \u001b[43m        \u001b[49m\u001b[43m)\u001b[49m\n\u001b[32m    263\u001b[39m \u001b[43m    \u001b[49m\u001b[43m)\u001b[49m\n\u001b[32m    264\u001b[39m \u001b[43m    \u001b[49m\u001b[43m@\u001b[49m\u001b[43m \u001b[49m\u001b[43mW\u001b[49m\n\u001b[32m    265\u001b[39m )\n\u001b[32m    266\u001b[39m \u001b[38;5;28;01mif\u001b[39;00m verbose:\n\u001b[32m    267\u001b[39m     \u001b[38;5;28mprint\u001b[39m(\u001b[33m\"\u001b[39m\u001b[33mA_1: \u001b[39m\u001b[33m\"\u001b[39m, A, A.shape)\n",
      "\u001b[31mValueError\u001b[39m: matmul: Input operand 1 has a mismatch in its core dimension 0, with gufunc signature (n?,k),(k,m?)->(n?,m?) (size 3 is different from 5)"
     ]
    }
   ],
   "source": [
    "Ars, crs, bit_vectors = functions.get_inequalities(model, random_sample, return_bit_vec_list=True, input_dimension=2)\n",
    "\n",
    "indices_for_active_bits, stats = functions.active_bits_index_2(Ars[0], crs[0].reshape(-1))\n",
    "\n",
    "\n",
    "print(\"Shape of Ars: \", Ars[0].shape)\n",
    "print(\"Shape of crs: \", crs[0].shape)\n",
    "print(\"Shape of bit_vectors: \", bit_vectors[0].shape)\n",
    "print(\"Active bit index list: \", indices_for_active_bits)\n",
    "\n",
    "\n",
    "# For this to work, each layer must have the same number of nodes. \n",
    "polyhedra_list, active_bit_count_list = functions.get_polytope_list(bit_vectors[0], indices_for_active_bits, model=model)\n",
    "print(\"# of polyhedra:\" ,len(polyhedra_list))"
   ]
  },
  {
   "cell_type": "code",
   "execution_count": null,
   "id": "a87ce7ed",
   "metadata": {},
   "outputs": [
    {
     "data": {
      "text/plain": [
       "[[array([[1],\n",
       "         [1],\n",
       "         [1]]),\n",
       "  array([[0],\n",
       "         [1],\n",
       "         [0]])],\n",
       " [array([[1],\n",
       "         [0],\n",
       "         [1]]),\n",
       "  array([[0],\n",
       "         [1],\n",
       "         [0]])],\n",
       " [array([[1],\n",
       "         [1],\n",
       "         [0]]),\n",
       "  array([[0],\n",
       "         [1],\n",
       "         [0]])],\n",
       " [array([[1],\n",
       "         [1],\n",
       "         [1]]),\n",
       "  array([[0],\n",
       "         [0],\n",
       "         [0]])],\n",
       " [array([[1],\n",
       "         [1],\n",
       "         [1]]),\n",
       "  array([[0],\n",
       "         [1],\n",
       "         [1]])],\n",
       " [array([[1],\n",
       "         [0],\n",
       "         [1]]),\n",
       "  array([[0],\n",
       "         [0],\n",
       "         [0]])],\n",
       " [array([[1],\n",
       "         [1],\n",
       "         [0]]),\n",
       "  array([[0],\n",
       "         [1],\n",
       "         [1]])],\n",
       " [array([[0],\n",
       "         [1],\n",
       "         [1]]),\n",
       "  array([[0],\n",
       "         [0],\n",
       "         [0]])],\n",
       " [array([[1],\n",
       "         [1],\n",
       "         [1]]),\n",
       "  array([[1],\n",
       "         [0],\n",
       "         [0]])],\n",
       " [array([[1],\n",
       "         [1],\n",
       "         [1]]),\n",
       "  array([[0],\n",
       "         [0],\n",
       "         [1]])],\n",
       " [array([[1],\n",
       "         [1],\n",
       "         [1]]),\n",
       "  array([[1],\n",
       "         [1],\n",
       "         [1]])],\n",
       " [array([[0],\n",
       "         [0],\n",
       "         [1]]),\n",
       "  array([[0],\n",
       "         [0],\n",
       "         [0]])],\n",
       " [array([[1],\n",
       "         [1],\n",
       "         [0]]),\n",
       "  array([[1],\n",
       "         [1],\n",
       "         [1]])],\n",
       " [array([[0],\n",
       "         [1],\n",
       "         [1]]),\n",
       "  array([[1],\n",
       "         [0],\n",
       "         [0]])],\n",
       " [array([[0],\n",
       "         [1],\n",
       "         [1]]),\n",
       "  array([[0],\n",
       "         [0],\n",
       "         [1]])],\n",
       " [array([[1],\n",
       "         [1],\n",
       "         [1]]),\n",
       "  array([[1],\n",
       "         [0],\n",
       "         [1]])],\n",
       " [array([[0],\n",
       "         [1],\n",
       "         [1]]),\n",
       "  array([[1],\n",
       "         [1],\n",
       "         [1]])],\n",
       " [array([[0],\n",
       "         [0],\n",
       "         [1]]),\n",
       "  array([[0],\n",
       "         [0],\n",
       "         [1]])],\n",
       " [array([[0],\n",
       "         [1],\n",
       "         [0]]),\n",
       "  array([[1],\n",
       "         [1],\n",
       "         [1]])],\n",
       " [array([[0],\n",
       "         [1],\n",
       "         [1]]),\n",
       "  array([[1],\n",
       "         [0],\n",
       "         [1]])],\n",
       " [array([[0],\n",
       "         [0],\n",
       "         [1]]),\n",
       "  array([[1],\n",
       "         [0],\n",
       "         [1]])],\n",
       " [array([[0],\n",
       "         [1],\n",
       "         [0]]),\n",
       "  array([[1],\n",
       "         [0],\n",
       "         [1]])],\n",
       " [array([[0],\n",
       "         [0],\n",
       "         [0]]),\n",
       "  array([[1],\n",
       "         [0],\n",
       "         [1]])]]"
      ]
     },
     "execution_count": 425,
     "metadata": {},
     "output_type": "execute_result"
    }
   ],
   "source": [
    "# What is this\n",
    "t = [np.array_split(a_poly, 2) for a_poly in polyhedra_list]\n",
    "t"
   ]
  },
  {
   "cell_type": "code",
   "execution_count": null,
   "id": "a9d5eace",
   "metadata": {},
   "outputs": [
    {
     "name": "stdout",
     "output_type": "stream",
     "text": [
      "List of polyhedra:\n",
      "  [array([[1],\n",
      "       [1],\n",
      "       [1],\n",
      "       [0],\n",
      "       [1],\n",
      "       [0]]), array([[1],\n",
      "       [0],\n",
      "       [1],\n",
      "       [0],\n",
      "       [1],\n",
      "       [0]]), array([[1],\n",
      "       [1],\n",
      "       [0],\n",
      "       [0],\n",
      "       [1],\n",
      "       [0]]), array([[1],\n",
      "       [1],\n",
      "       [1],\n",
      "       [0],\n",
      "       [0],\n",
      "       [0]]), array([[1],\n",
      "       [1],\n",
      "       [1],\n",
      "       [0],\n",
      "       [1],\n",
      "       [1]]), array([[1],\n",
      "       [0],\n",
      "       [1],\n",
      "       [0],\n",
      "       [0],\n",
      "       [0]]), array([[1],\n",
      "       [1],\n",
      "       [0],\n",
      "       [0],\n",
      "       [1],\n",
      "       [1]]), array([[0],\n",
      "       [1],\n",
      "       [1],\n",
      "       [0],\n",
      "       [0],\n",
      "       [0]]), array([[1],\n",
      "       [1],\n",
      "       [1],\n",
      "       [1],\n",
      "       [0],\n",
      "       [0]]), array([[1],\n",
      "       [1],\n",
      "       [1],\n",
      "       [0],\n",
      "       [0],\n",
      "       [1]]), array([[1],\n",
      "       [1],\n",
      "       [1],\n",
      "       [1],\n",
      "       [1],\n",
      "       [1]]), array([[0],\n",
      "       [0],\n",
      "       [1],\n",
      "       [0],\n",
      "       [0],\n",
      "       [0]]), array([[1],\n",
      "       [1],\n",
      "       [0],\n",
      "       [1],\n",
      "       [1],\n",
      "       [1]]), array([[0],\n",
      "       [1],\n",
      "       [1],\n",
      "       [1],\n",
      "       [0],\n",
      "       [0]]), array([[0],\n",
      "       [1],\n",
      "       [1],\n",
      "       [0],\n",
      "       [0],\n",
      "       [1]]), array([[1],\n",
      "       [1],\n",
      "       [1],\n",
      "       [1],\n",
      "       [0],\n",
      "       [1]]), array([[0],\n",
      "       [1],\n",
      "       [1],\n",
      "       [1],\n",
      "       [1],\n",
      "       [1]]), array([[0],\n",
      "       [0],\n",
      "       [1],\n",
      "       [0],\n",
      "       [0],\n",
      "       [1]]), array([[0],\n",
      "       [1],\n",
      "       [0],\n",
      "       [1],\n",
      "       [1],\n",
      "       [1]]), array([[0],\n",
      "       [1],\n",
      "       [1],\n",
      "       [1],\n",
      "       [0],\n",
      "       [1]]), array([[0],\n",
      "       [0],\n",
      "       [1],\n",
      "       [1],\n",
      "       [0],\n",
      "       [1]]), array([[0],\n",
      "       [1],\n",
      "       [0],\n",
      "       [1],\n",
      "       [0],\n",
      "       [1]]), array([[0],\n",
      "       [0],\n",
      "       [0],\n",
      "       [1],\n",
      "       [0],\n",
      "       [1]])]\n"
     ]
    }
   ],
   "source": [
    "print(\"List of polyhedra:\\n \",polyhedra_list )"
   ]
  },
  {
   "cell_type": "code",
   "execution_count": null,
   "id": "4c32a227",
   "metadata": {},
   "outputs": [
    {
     "name": "stdout",
     "output_type": "stream",
     "text": [
      "Shape of 1. polyhedra:  (6, 1)\n",
      "Shape of 2. polyhedra:  (6, 1)\n",
      "Shape of 3. polyhedra:  (6, 1)\n",
      "Shape of 4. polyhedra:  (6, 1)\n",
      "Shape of 5. polyhedra:  (6, 1)\n",
      "Shape of 6. polyhedra:  (6, 1)\n",
      "Shape of 7. polyhedra:  (6, 1)\n",
      "Shape of 8. polyhedra:  (6, 1)\n",
      "Shape of 9. polyhedra:  (6, 1)\n",
      "Shape of 10. polyhedra:  (6, 1)\n",
      "Shape of 11. polyhedra:  (6, 1)\n",
      "Shape of 12. polyhedra:  (6, 1)\n",
      "Shape of 13. polyhedra:  (6, 1)\n",
      "Shape of 14. polyhedra:  (6, 1)\n",
      "Shape of 15. polyhedra:  (6, 1)\n",
      "Shape of 16. polyhedra:  (6, 1)\n",
      "Shape of 17. polyhedra:  (6, 1)\n",
      "Shape of 18. polyhedra:  (6, 1)\n",
      "Shape of 19. polyhedra:  (6, 1)\n",
      "Shape of 20. polyhedra:  (6, 1)\n",
      "Shape of 21. polyhedra:  (6, 1)\n",
      "Shape of 22. polyhedra:  (6, 1)\n",
      "Shape of 23. polyhedra:  (6, 1)\n"
     ]
    }
   ],
   "source": [
    "counter = 1\n",
    "for a_polyhedra in polyhedra_list:\n",
    "    print(f\"Shape of {counter}. polyhedra: \",a_polyhedra.shape )\n",
    "    counter += 1"
   ]
  },
  {
   "cell_type": "code",
   "execution_count": null,
   "id": "f121e4fb",
   "metadata": {},
   "outputs": [
    {
     "name": "stdout",
     "output_type": "stream",
     "text": [
      "1. polyhedra has :  4 neighbors\n",
      "2. polyhedra has :  2 neighbors\n",
      "3. polyhedra has :  2 neighbors\n",
      "4. polyhedra has :  5 neighbors\n",
      "5. polyhedra has :  4 neighbors\n",
      "6. polyhedra has :  3 neighbors\n",
      "7. polyhedra has :  3 neighbors\n",
      "8. polyhedra has :  4 neighbors\n",
      "9. polyhedra has :  3 neighbors\n",
      "10. polyhedra has :  3 neighbors\n",
      "11. polyhedra has :  4 neighbors\n",
      "12. polyhedra has :  3 neighbors\n",
      "13. polyhedra has :  3 neighbors\n",
      "14. polyhedra has :  3 neighbors\n",
      "15. polyhedra has :  3 neighbors\n",
      "16. polyhedra has :  4 neighbors\n",
      "17. polyhedra has :  3 neighbors\n",
      "18. polyhedra has :  3 neighbors\n",
      "19. polyhedra has :  3 neighbors\n",
      "20. polyhedra has :  6 neighbors\n",
      "21. polyhedra has :  3 neighbors\n",
      "22. polyhedra has :  3 neighbors\n",
      "23. polyhedra has :  2 neighbors\n"
     ]
    }
   ],
   "source": [
    "counter = 1\n",
    "for a_neigh_count in active_bit_count_list:\n",
    "    print(f\"{counter}. polyhedra has : \", a_neigh_count, \"neighbors\" )\n",
    "    counter += 1"
   ]
  },
  {
   "cell_type": "code",
   "execution_count": null,
   "id": "d133632d",
   "metadata": {},
   "outputs": [
    {
     "name": "stdout",
     "output_type": "stream",
     "text": [
      "Length of A_alg:  23\n",
      "Solver name: CLARABEL\n"
     ]
    }
   ],
   "source": [
    "# random_sample = np.array([[0.], [0.]])  # Example random sample for testing\n",
    "\n",
    "Ars, crs, bit_vectors = functions.get_inequalities(model, random_sample, return_bit_vec_list=True, input_dimension=2)\n",
    "\n",
    "indices_for_active_bits, stats = functions.active_bits_index_2(Ars[0], crs[0].reshape(-1))\n",
    "\n",
    "sample_bit_vector_list = functions.bit_vector_from_relus(model, random_sample, get_unique_bit_vectors_only=True)\n",
    "\n",
    "sample_bit_vector_list = np.vstack(sample_bit_vector_list[0])\n",
    "\n",
    "polytope_list, active_bit_count_list = functions.get_polytope_list(sample_bit_vector_list, indices_for_active_bits, input_dimension=2, model=model)\n",
    "\n",
    "bit_string_list_from_alg = polyhedra_list\n",
    "\n",
    "def divide_column_vector(column_vector):\n",
    "    return np.array_split(column_vector, 2)\n",
    "\n",
    "list_of_lists_of_column_vectors_alg = [divide_column_vector(column_vector) for column_vector in bit_string_list_from_alg]\n",
    "\n",
    "A_alg, c_alg = functions.get_inequalities(model, list_of_lists_of_column_vectors_alg, is_input_sample=False, return_bit_vec_list=False, input_dimension=2)\n",
    "print(\"Length of A_alg: \", len(A_alg))\n",
    "print(\"Solver name:\", stats.solver_name)"
   ]
  },
  {
   "cell_type": "code",
   "execution_count": null,
   "id": "4d443cda",
   "metadata": {},
   "outputs": [
    {
     "name": "stdout",
     "output_type": "stream",
     "text": [
      "[[2.0558    ]\n",
      " [0.25407973]]\n"
     ]
    },
    {
     "ename": "IndexError",
     "evalue": "too many indices for array: array is 1-dimensional, but 2 were indexed",
     "output_type": "error",
     "traceback": [
      "\u001b[31m---------------------------------------------------------------------------\u001b[39m",
      "\u001b[31mIndexError\u001b[39m                                Traceback (most recent call last)",
      "\u001b[36mCell\u001b[39m\u001b[36m \u001b[39m\u001b[32mIn[430]\u001b[39m\u001b[32m, line 10\u001b[39m\n\u001b[32m      7\u001b[39m \u001b[38;5;28mprint\u001b[39m(random_sample)\n\u001b[32m      9\u001b[39m \u001b[38;5;28;01mfor\u001b[39;00m A, c \u001b[38;5;129;01min\u001b[39;00m \u001b[38;5;28mzip\u001b[39m (A_alg, c_alg):\n\u001b[32m---> \u001b[39m\u001b[32m10\u001b[39m     verticles = \u001b[43mlineqs\u001b[49m\u001b[43m(\u001b[49m\u001b[43m-\u001b[49m\u001b[43mA\u001b[49m\u001b[43m,\u001b[49m\u001b[43m \u001b[49m\u001b[43m-\u001b[49m\u001b[43mc\u001b[49m\u001b[43m,\u001b[49m\u001b[43m \u001b[49m\u001b[43mtitle\u001b[49m\u001b[43m=\u001b[49m\u001b[33;43m'\u001b[39;49m\u001b[33;43mSolution\u001b[39;49m\u001b[33;43m'\u001b[39;49m\u001b[43m,\u001b[49m\u001b[43m \u001b[49m\u001b[43mcolor\u001b[49m\u001b[43m=\u001b[49m\u001b[33;43m'\u001b[39;49m\u001b[33;43mred\u001b[39;49m\u001b[33;43m'\u001b[39;49m\u001b[43m,\u001b[49m\u001b[43m \u001b[49m\u001b[43msave\u001b[49m\u001b[43m=\u001b[49m\u001b[38;5;28;43;01mFalse\u001b[39;49;00m\u001b[43m,\u001b[49m\u001b[43m \u001b[49m\u001b[43mshow\u001b[49m\u001b[43m=\u001b[49m\u001b[38;5;28;43;01mFalse\u001b[39;49;00m\u001b[43m,\u001b[49m\u001b[43m \u001b[49m\u001b[43mbounds\u001b[49m\u001b[43m \u001b[49m\u001b[43m=\u001b[49m\u001b[43m \u001b[49m\u001b[43m[\u001b[49m\u001b[43m[\u001b[49m\u001b[43m-\u001b[49m\u001b[43mbound\u001b[49m\u001b[43m,\u001b[49m\u001b[43m \u001b[49m\u001b[43m-\u001b[49m\u001b[43mbound\u001b[49m\u001b[43m]\u001b[49m\u001b[43m,\u001b[49m\u001b[43m \u001b[49m\u001b[43m[\u001b[49m\u001b[43mbound\u001b[49m\u001b[43m,\u001b[49m\u001b[43m \u001b[49m\u001b[43mbound\u001b[49m\u001b[43m]\u001b[49m\u001b[43m]\u001b[49m\u001b[43m)\u001b[49m\n\u001b[32m     11\u001b[39m     verticles_list_alg.append(verticles)\n\u001b[32m     12\u001b[39m \u001b[38;5;28mlen\u001b[39m(verticles_list_alg)\n",
      "\u001b[36mFile \u001b[39m\u001b[32m~/Documents/phd/WP1/polyhedra/.venv/lib/python3.13/site-packages/intvalpy/linear/boundary_intervals.py:209\u001b[39m, in \u001b[36mlineqs\u001b[39m\u001b[34m(A, b, show, title, color, bounds, alpha, s, size, save)\u001b[39m\n\u001b[32m    204\u001b[39m         b = np.append(np.append(b, [bounds[\u001b[32m0\u001b[39m][\u001b[32m0\u001b[39m], bounds[\u001b[32m0\u001b[39m][\u001b[32m1\u001b[39m]]),\n\u001b[32m    205\u001b[39m                       [-bounds[\u001b[32m1\u001b[39m][\u001b[32m0\u001b[39m], -bounds[\u001b[32m1\u001b[39m][\u001b[32m1\u001b[39m]])\n\u001b[32m    207\u001b[39m     S = BoundaryIntervals(A, b)\n\u001b[32m--> \u001b[39m\u001b[32m209\u001b[39m vertices = \u001b[43mIntervals2Path\u001b[49m\u001b[43m(\u001b[49m\u001b[43mS\u001b[49m\u001b[43m)\u001b[49m\n\u001b[32m    211\u001b[39m \u001b[38;5;28;01mif\u001b[39;00m show:\n\u001b[32m    212\u001b[39m     fig = plt.figure(figsize=size)\n",
      "\u001b[36mFile \u001b[39m\u001b[32m~/Documents/phd/WP1/polyhedra/.venv/lib/python3.13/site-packages/intvalpy/linear/boundary_intervals.py:71\u001b[39m, in \u001b[36mIntervals2Path\u001b[39m\u001b[34m(S)\u001b[39m\n\u001b[32m     70\u001b[39m \u001b[38;5;28;01mdef\u001b[39;00m\u001b[38;5;250m \u001b[39m\u001b[34mIntervals2Path\u001b[39m(S):\n\u001b[32m---> \u001b[39m\u001b[32m71\u001b[39m     bs, bp = \u001b[43mS\u001b[49m\u001b[43m[\u001b[49m\u001b[32;43m0\u001b[39;49m\u001b[43m,\u001b[49m\u001b[43m \u001b[49m\u001b[43m:\u001b[49m\u001b[32;43m2\u001b[39;49m\u001b[43m]\u001b[49m, S[\u001b[32m0\u001b[39m, :\u001b[32m2\u001b[39m]\n\u001b[32m     72\u001b[39m     P = [bp]\n\u001b[32m     74\u001b[39m     \u001b[38;5;28;01mwhile\u001b[39;00m \u001b[38;5;28mlen\u001b[39m(S) > \u001b[32m0\u001b[39m:\n",
      "\u001b[31mIndexError\u001b[39m: too many indices for array: array is 1-dimensional, but 2 were indexed"
     ]
    }
   ],
   "source": [
    "from intvalpy import lineqs\n",
    "\n",
    "verticles_list_alg = []\n",
    "\n",
    "bound = 10\n",
    "\n",
    "print(random_sample)\n",
    "\n",
    "for A, c in zip (A_alg, c_alg):\n",
    "    verticles = lineqs(-A, -c, title='Solution', color='red', save=False, show=False, bounds = [[-bound, -bound], [bound, bound]])\n",
    "    verticles_list_alg.append(verticles)\n",
    "len(verticles_list_alg)"
   ]
  },
  {
   "cell_type": "code",
   "execution_count": null,
   "id": "82d34d1a",
   "metadata": {},
   "outputs": [
    {
     "data": {
      "image/png": "[encoded data removed]",
      "text/plain": [
       "<Figure size 640x480 with 1 Axes>"
      ]
     },
     "metadata": {},
     "output_type": "display_data"
    },
    {
     "name": "stdout",
     "output_type": "stream",
     "text": [
      "The number of polytopes within the boundaries is: 12\n"
     ]
    }
   ],
   "source": [
    "import matplotlib\n",
    "from matplotlib.patches import Polygon\n",
    "from matplotlib.collections import PatchCollection\n",
    "bound = 3\n",
    "\n",
    "\n",
    "fig = plt.figure()\n",
    "ax = fig.add_subplot(111, aspect='equal')\n",
    "patches = []\n",
    "num_polygons = len(verticles_list_alg)\n",
    "colors = [np.random.randint(1, 300) for i in range(num_polygons)]\n",
    "cmap = matplotlib.colormaps['rainbow']\n",
    "\n",
    "polytopes_within_boundaries = 0  # Counter for polytopes within boundaries\n",
    "\n",
    "for i in range(num_polygons):\n",
    "    vertices_i = verticles_list_alg[i]\n",
    "    \n",
    "    # Check if any vertex falls within the boundaries\n",
    "    vertices_within_boundaries = any(-bound <= coord[0] <= bound and -bound <= coord[1] <= bound for coord in vertices_i)\n",
    "    clipped_vertices = functions.clip_vertices(vertices_i.tolist(),bound)\n",
    "    if vertices_within_boundaries:\n",
    "        polygon = Polygon(xy=vertices_i,\n",
    "                          closed=True,\n",
    "                          facecolor=cmap(colors[i]),\n",
    "                          edgecolor='black',\n",
    "                          label=np.transpose(bit_string_list_from_alg[i])[0],\n",
    "                         )\n",
    "        ax.add_patch(polygon)\n",
    "        \n",
    "        center_x, center_y = functions.calculate_center_of_mass(clipped_vertices)\n",
    "#         min_x = min(coord[0] for coord in clipped_vertices)\n",
    "#         max_x = max(coord[0] for coord in clipped_vertices)\n",
    "#         min_x = max(min_x, -bound)\n",
    "#         max_x = min(max_x, bound)\n",
    "#         center_x = 0.5 * (max_x - min_x) + min_x\n",
    "#         min_y = min(coord[1] for coord in clipped_vertices)\n",
    "#         max_y = max(coord[1] for coord in clipped_vertices)\n",
    "#         min_y = max(min_y, -bound)\n",
    "#         max_y = min(max_y, bound)\n",
    "#         center_y = 0.5 * (max_y - min_y) + min_y\n",
    "\n",
    "        ax.annotate(text=polygon.get_label(), xy=(center_x, center_y), ha='center', fontsize=6)\n",
    "        patches.append(polygon)\n",
    "        \n",
    "        polytopes_within_boundaries += 1\n",
    "#         print(vertices_i,bit_string_list_from_alg[i],min_x,min_y,center_x,center_y )\n",
    "        \n",
    "        \n",
    "        \n",
    "\n",
    "ax.set_xlim([-bound, bound])\n",
    "ax.set_ylim([-bound, bound])\n",
    "p = PatchCollection(patches, cmap=matplotlib.cm.gist_rainbow, alpha=0.8)\n",
    "np.random.seed(10)\n",
    "colors = [np.random.randint(1, 1000) for i in range(len(patches))]\n",
    "plt.show()\n",
    "\n",
    "print(f\"The number of polytopes within the boundaries is: {polytopes_within_boundaries}\")"
   ]
  }
 ],
 "metadata": {
  "kernelspec": {
   "display_name": ".venv",
   "language": "python",
   "name": "python3"
  },
  "language_info": {
   "codemirror_mode": {
    "name": "ipython",
    "version": 3
   },
   "file_extension": ".py",
   "mimetype": "text/x-python",
   "name": "python",
   "nbconvert_exporter": "python",
   "pygments_lexer": "ipython3",
   "version": "3.13.1"
  }
 },
 "nbformat": 4,
 "nbformat_minor": 5
}
