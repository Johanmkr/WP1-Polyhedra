{
 "cells": [
  {
   "cell_type": "markdown",
   "id": "0fc0b831",
   "metadata": {},
   "source": [
    "# Computing regions\n",
    "This notebook will go through, in detail, "
   ]
  },
  {
   "cell_type": "code",
   "execution_count": null,
   "id": "42a6b045",
   "metadata": {},
   "outputs": [],
   "source": [
    "import torch.nn as nn \n",
    "import torch\n",
    "from sklearn.datasets import make_moons\n",
    "import numpy as np\n",
    "import matplotlib.pyplot as plt\n",
    "from tqdm import trange\n",
    "from intvalpy import lineqs\n",
    "\n",
    "import sys\n",
    "sys.path.append('../')\n",
    "from src import functions\n",
    "from src import trainer\n",
    "from src import models\n",
    "from src import utils\n",
    "\n",
    "import matplotlib.pyplot as plt\n",
    "import matplotlib\n",
    "from matplotlib.patches import Polygon\n",
    "from matplotlib.collections import PatchCollection\n",
    "import pickle\n",
    "\n",
    "# Useful function to convert tensors to numpy arrays\n",
    "def to_np(x):\n",
    "    return x.cpu().detach().numpy()\n",
    "def to_tensor(x):\n",
    "    return torch.tensor(x, dtype=torch.float32)"
   ]
  },
  {
   "cell_type": "code",
   "execution_count": null,
   "id": "291c5340",
   "metadata": {},
   "outputs": [],
   "source": []
  },
  {
   "cell_type": "markdown",
   "id": "291fb65b",
   "metadata": {},
   "source": []
  }
 ],
 "metadata": {
  "language_info": {
   "name": "python"
  }
 },
 "nbformat": 4,
 "nbformat_minor": 5
}
